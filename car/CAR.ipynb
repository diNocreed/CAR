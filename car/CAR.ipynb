{
 "cells": [
  {
   "cell_type": "code",
   "execution_count": 1,
   "metadata": {},
   "outputs": [
    {
     "name": "stderr",
     "output_type": "stream",
     "text": [
      "        \n",
      "  import pandas as pd\n"
     ]
    }
   ],
   "source": [
    "import pandas as pd"
   ]
  },
  {
   "cell_type": "code",
   "execution_count": 2,
   "metadata": {},
   "outputs": [
    {
     "name": "stdout",
     "output_type": "stream",
     "text": [
      "<class 'pandas.core.frame.DataFrame'>\n",
      "RangeIndex: 1000 entries, 0 to 999\n",
      "Data columns (total 7 columns):\n",
      " #   Column      Non-Null Count  Dtype  \n",
      "---  ------      --------------  -----  \n",
      " 0   Unnamed: 0  1000 non-null   int64  \n",
      " 1   Make        1000 non-null   object \n",
      " 2   Model       1000 non-null   object \n",
      " 3   Year        1000 non-null   int64  \n",
      " 4   Mileage     1000 non-null   int64  \n",
      " 5   Condition   1000 non-null   object \n",
      " 6   Price       1000 non-null   float64\n",
      "dtypes: float64(1), int64(3), object(3)\n",
      "memory usage: 54.8+ KB\n"
     ]
    }
   ],
   "source": [
    "df=pd.read_csv('CarPricesPrediction.csv')\n",
    "df.info()"
   ]
  },
  {
   "cell_type": "code",
   "execution_count": 3,
   "metadata": {},
   "outputs": [
    {
     "data": {
      "text/html": [
       "<div>\n",
       "<style scoped>\n",
       "    .dataframe tbody tr th:only-of-type {\n",
       "        vertical-align: middle;\n",
       "    }\n",
       "\n",
       "    .dataframe tbody tr th {\n",
       "        vertical-align: top;\n",
       "    }\n",
       "\n",
       "    .dataframe thead th {\n",
       "        text-align: right;\n",
       "    }\n",
       "</style>\n",
       "<table border=\"1\" class=\"dataframe\">\n",
       "  <thead>\n",
       "    <tr style=\"text-align: right;\">\n",
       "      <th></th>\n",
       "      <th>Make</th>\n",
       "      <th>Model</th>\n",
       "      <th>Year</th>\n",
       "      <th>Mileage</th>\n",
       "      <th>Condition</th>\n",
       "      <th>Price</th>\n",
       "    </tr>\n",
       "  </thead>\n",
       "  <tbody>\n",
       "    <tr>\n",
       "      <th>0</th>\n",
       "      <td>Ford</td>\n",
       "      <td>Silverado</td>\n",
       "      <td>2022</td>\n",
       "      <td>18107</td>\n",
       "      <td>Excellent</td>\n",
       "      <td>19094.75</td>\n",
       "    </tr>\n",
       "    <tr>\n",
       "      <th>1</th>\n",
       "      <td>Toyota</td>\n",
       "      <td>Silverado</td>\n",
       "      <td>2014</td>\n",
       "      <td>13578</td>\n",
       "      <td>Excellent</td>\n",
       "      <td>27321.10</td>\n",
       "    </tr>\n",
       "    <tr>\n",
       "      <th>2</th>\n",
       "      <td>Chevrolet</td>\n",
       "      <td>Civic</td>\n",
       "      <td>2016</td>\n",
       "      <td>46054</td>\n",
       "      <td>Good</td>\n",
       "      <td>23697.30</td>\n",
       "    </tr>\n",
       "    <tr>\n",
       "      <th>3</th>\n",
       "      <td>Ford</td>\n",
       "      <td>Civic</td>\n",
       "      <td>2022</td>\n",
       "      <td>34981</td>\n",
       "      <td>Excellent</td>\n",
       "      <td>18251.05</td>\n",
       "    </tr>\n",
       "    <tr>\n",
       "      <th>4</th>\n",
       "      <td>Chevrolet</td>\n",
       "      <td>Civic</td>\n",
       "      <td>2019</td>\n",
       "      <td>63565</td>\n",
       "      <td>Excellent</td>\n",
       "      <td>19821.85</td>\n",
       "    </tr>\n",
       "    <tr>\n",
       "      <th>...</th>\n",
       "      <td>...</td>\n",
       "      <td>...</td>\n",
       "      <td>...</td>\n",
       "      <td>...</td>\n",
       "      <td>...</td>\n",
       "      <td>...</td>\n",
       "    </tr>\n",
       "    <tr>\n",
       "      <th>995</th>\n",
       "      <td>Nissan</td>\n",
       "      <td>Camry</td>\n",
       "      <td>2010</td>\n",
       "      <td>149032</td>\n",
       "      <td>Excellent</td>\n",
       "      <td>24548.50</td>\n",
       "    </tr>\n",
       "    <tr>\n",
       "      <th>996</th>\n",
       "      <td>Chevrolet</td>\n",
       "      <td>F-150</td>\n",
       "      <td>2014</td>\n",
       "      <td>20608</td>\n",
       "      <td>Excellent</td>\n",
       "      <td>26969.70</td>\n",
       "    </tr>\n",
       "    <tr>\n",
       "      <th>997</th>\n",
       "      <td>Ford</td>\n",
       "      <td>Altima</td>\n",
       "      <td>2016</td>\n",
       "      <td>109851</td>\n",
       "      <td>Good</td>\n",
       "      <td>20507.55</td>\n",
       "    </tr>\n",
       "    <tr>\n",
       "      <th>998</th>\n",
       "      <td>Toyota</td>\n",
       "      <td>Silverado</td>\n",
       "      <td>2010</td>\n",
       "      <td>11704</td>\n",
       "      <td>Good</td>\n",
       "      <td>31414.90</td>\n",
       "    </tr>\n",
       "    <tr>\n",
       "      <th>999</th>\n",
       "      <td>Nissan</td>\n",
       "      <td>Silverado</td>\n",
       "      <td>2017</td>\n",
       "      <td>128390</td>\n",
       "      <td>Excellent</td>\n",
       "      <td>18580.60</td>\n",
       "    </tr>\n",
       "  </tbody>\n",
       "</table>\n",
       "<p>1000 rows × 6 columns</p>\n",
       "</div>"
      ],
      "text/plain": [
       "          Make      Model  Year  Mileage  Condition     Price\n",
       "0         Ford  Silverado  2022    18107  Excellent  19094.75\n",
       "1       Toyota  Silverado  2014    13578  Excellent  27321.10\n",
       "2    Chevrolet      Civic  2016    46054       Good  23697.30\n",
       "3         Ford      Civic  2022    34981  Excellent  18251.05\n",
       "4    Chevrolet      Civic  2019    63565  Excellent  19821.85\n",
       "..         ...        ...   ...      ...        ...       ...\n",
       "995     Nissan      Camry  2010   149032  Excellent  24548.50\n",
       "996  Chevrolet      F-150  2014    20608  Excellent  26969.70\n",
       "997       Ford     Altima  2016   109851       Good  20507.55\n",
       "998     Toyota  Silverado  2010    11704       Good  31414.90\n",
       "999     Nissan  Silverado  2017   128390  Excellent  18580.60\n",
       "\n",
       "[1000 rows x 6 columns]"
      ]
     },
     "execution_count": 3,
     "metadata": {},
     "output_type": "execute_result"
    }
   ],
   "source": [
    "df.drop(['Unnamed: 0'], axis=1, inplace=True)\n",
    "df"
   ]
  },
  {
   "cell_type": "code",
   "execution_count": 4,
   "metadata": {},
   "outputs": [
    {
     "name": "stdout",
     "output_type": "stream",
     "text": [
      "Make           5\n",
      "Model          5\n",
      "Year          13\n",
      "Mileage      993\n",
      "Condition      3\n",
      "Price        997\n",
      "dtype: int64\n",
      "-----\n",
      "Make         0\n",
      "Model        0\n",
      "Year         0\n",
      "Mileage      0\n",
      "Condition    0\n",
      "Price        0\n",
      "dtype: int64\n"
     ]
    }
   ],
   "source": [
    "print(df.nunique())\n",
    "print('-----')\n",
    "print(df.isnull().sum())"
   ]
  },
  {
   "cell_type": "code",
   "execution_count": 5,
   "metadata": {},
   "outputs": [
    {
     "name": "stdout",
     "output_type": "stream",
     "text": [
      "     Make  Model  Year  Mileage  Condition     Price\n",
      "0       1      4  2022    18107          0  19094.75\n",
      "1       4      4  2014    13578          0  27321.10\n",
      "2       0      2  2016    46054          2  23697.30\n",
      "3       1      2  2022    34981          0  18251.05\n",
      "4       0      2  2019    63565          0  19821.85\n",
      "..    ...    ...   ...      ...        ...       ...\n",
      "995     3      1  2010   149032          0  24548.50\n",
      "996     0      3  2014    20608          0  26969.70\n",
      "997     1      0  2016   109851          2  20507.55\n",
      "998     4      4  2010    11704          2  31414.90\n",
      "999     3      4  2017   128390          0  18580.60\n",
      "\n",
      "[1000 rows x 6 columns]\n"
     ]
    }
   ],
   "source": [
    "import sklearn\n",
    "from sklearn.preprocessing import LabelEncoder\n",
    "\n",
    "to_list=['Make', 'Model', 'Condition']\n",
    "\n",
    "lab_enc=LabelEncoder()\n",
    "\n",
    "for col in to_list:\n",
    "    df[col]=lab_enc.fit_transform(df[col])\n",
    "\n",
    "print(df)"
   ]
  },
  {
   "cell_type": "code",
   "execution_count": 6,
   "metadata": {},
   "outputs": [
    {
     "name": "stdout",
     "output_type": "stream",
     "text": [
      "<class 'pandas.core.frame.DataFrame'>\n",
      "RangeIndex: 1000 entries, 0 to 999\n",
      "Data columns (total 6 columns):\n",
      " #   Column     Non-Null Count  Dtype  \n",
      "---  ------     --------------  -----  \n",
      " 0   Make       1000 non-null   int32  \n",
      " 1   Model      1000 non-null   int32  \n",
      " 2   Year       1000 non-null   int64  \n",
      " 3   Mileage    1000 non-null   int64  \n",
      " 4   Condition  1000 non-null   int32  \n",
      " 5   Price      1000 non-null   float64\n",
      "dtypes: float64(1), int32(3), int64(2)\n",
      "memory usage: 35.3 KB\n"
     ]
    }
   ],
   "source": [
    "df.info()"
   ]
  },
  {
   "cell_type": "code",
   "execution_count": 7,
   "metadata": {},
   "outputs": [
    {
     "name": "stdout",
     "output_type": "stream",
     "text": [
      "     Make  Model      Year   Mileage  Condition     Price\n",
      "0    0.25   1.00  1.000000  0.057460        0.0  0.344739\n",
      "1    1.00   1.00  0.333333  0.025044        0.0  0.782267\n",
      "2    0.00   0.50  0.500000  0.257488        1.0  0.589531\n",
      "3    0.25   0.50  1.000000  0.178234        0.0  0.299866\n",
      "4    0.00   0.50  0.750000  0.382822        0.0  0.383411\n",
      "..    ...    ...       ...       ...        ...       ...\n",
      "995  0.75   0.25  0.000000  0.994546        0.0  0.634803\n",
      "996  0.00   0.75  0.333333  0.075361        0.0  0.763577\n",
      "997  0.25   0.00  0.500000  0.714111        1.0  0.419880\n",
      "998  1.00   1.00  0.000000  0.011631        1.0  1.000000\n",
      "999  0.75   1.00  0.583333  0.846802        0.0  0.317393\n",
      "\n",
      "[1000 rows x 6 columns]\n"
     ]
    }
   ],
   "source": [
    "from sklearn.preprocessing import MinMaxScaler\n",
    "scaler=MinMaxScaler()\n",
    "df_norm=pd.DataFrame(scaler.fit_transform(df), columns=df.columns)\n",
    "print(df_norm)"
   ]
  },
  {
   "cell_type": "code",
   "execution_count": 8,
   "metadata": {},
   "outputs": [
    {
     "name": "stdout",
     "output_type": "stream",
     "text": [
      "<class 'pandas.core.frame.DataFrame'>\n",
      "RangeIndex: 1000 entries, 0 to 999\n",
      "Data columns (total 6 columns):\n",
      " #   Column     Non-Null Count  Dtype  \n",
      "---  ------     --------------  -----  \n",
      " 0   Make       1000 non-null   float64\n",
      " 1   Model      1000 non-null   float64\n",
      " 2   Year       1000 non-null   float64\n",
      " 3   Mileage    1000 non-null   float64\n",
      " 4   Condition  1000 non-null   float64\n",
      " 5   Price      1000 non-null   float64\n",
      "dtypes: float64(6)\n",
      "memory usage: 47.0 KB\n"
     ]
    }
   ],
   "source": [
    "df_norm.info()"
   ]
  },
  {
   "cell_type": "code",
   "execution_count": 11,
   "metadata": {},
   "outputs": [],
   "source": [
    "X=df_norm.drop('Price', axis=1)\n",
    "y=df_norm['Price']\n",
    "\n",
    "import sklearn\n",
    "from sklearn.linear_model import LinearRegression\n",
    "from sklearn.preprocessing import PolynomialFeatures, StandardScaler\n",
    "from sklearn.pipeline import make_pipeline\n",
    "from sklearn.ensemble import RandomForestRegressor\n",
    "from sklearn.model_selection import cross_validate\n",
    "import numpy as np\n",
    "\n",
    "models=[('Linear Reg', LinearRegression()),\n",
    "       ('Pol Reg', make_pipeline(PolynomialFeatures(degree=2), StandardScaler(), LinearRegression())),\n",
    "       ('Rand For Reg', RandomForestRegressor())]\n",
    "\n",
    "scoring={'r2':'r2', 'mae': 'neg_mean_absolute_error', 'mse':'neg_mean_squared_error'}\n",
    "\n",
    "result={'Model':[], 'R^2':[], 'MAE':[], 'MSE':[]}\n",
    "\n",
    "for na,model in models:\n",
    "    cv_results=cross_validate(model, X, y, cv=5, scoring=scoring)\n",
    "\n",
    "    r2_scores=cv_results['test_r2']\n",
    "    mae_scores= -cv_results['test_mae']\n",
    "    mse_scores= -cv_results['test_mse']\n",
    "\n",
    "    avg_r2=np.mean(r2_scores)\n",
    "    avg_mae=np.mean(mae_scores)\n",
    "    avg_mse=np.mean(mse_scores)\n",
    "\n",
    "    result['Model'].append(na)\n",
    "    result['R^2'].append(avg_r2)\n",
    "    result['MAE'].append(avg_mae)\n",
    "    result['MSE'].append(avg_mse)\n",
    "\n",
    "result_df=pd.DataFrame(result)\n"
   ]
  },
  {
   "cell_type": "code",
   "execution_count": 45,
   "metadata": {},
   "outputs": [
    {
     "data": {
      "text/plain": [
       "Text(0.5, 1.0, 'MSE')"
      ]
     },
     "execution_count": 45,
     "metadata": {},
     "output_type": "execute_result"
    },
    {
     "data": {
      "image/png": "[encoded data removed]",
      "text/plain": [
       "<Figure size 1500x1500 with 3 Axes>"
      ]
     },
     "metadata": {},
     "output_type": "display_data"
    }
   ],
   "source": [
    "import matplotlib.pyplot as plt\n",
    "plt.figure(figsize=(15,15))\n",
    "plt.subplot(3,2,1)\n",
    "plt.bar(result_df['Model'], result_df['R^2'])\n",
    "plt.title('R^2')\n",
    "plt.ylim(0,1)\n",
    "\n",
    "plt.subplot(3,2,2)\n",
    "plt.bar(result_df['Model'], result_df['MAE'], color='red')\n",
    "plt.title('MAE')\n",
    "\n",
    "plt.subplot(3,2,3)\n",
    "plt.bar(result_df['Model'], result_df['MSE'], color='purple')\n",
    "plt.title('MSE')"
   ]
  },
  {
   "cell_type": "code",
   "execution_count": 27,
   "metadata": {},
   "outputs": [
    {
     "data": {
      "text/plain": [
       "Text(0.5, 1.0, 'MAE')"
      ]
     },
     "execution_count": 27,
     "metadata": {},
     "output_type": "execute_result"
    },
    {
     "data": {
      "image/png": "[encoded data removed]",
      "text/plain": [
       "<Figure size 640x480 with 1 Axes>"
      ]
     },
     "metadata": {},
     "output_type": "display_data"
    }
   ],
   "source": [
    "plt.bar(result_df['Model'], result_df['MAE'], color='red')\n",
    "plt.title('MAE')"
   ]
  },
  {
   "cell_type": "code",
   "execution_count": null,
   "metadata": {},
   "outputs": [],
   "source": []
  }
 ],
 "metadata": {
  "kernelspec": {
   "display_name": "Python 3",
   "language": "python",
   "name": "python3"
  },
  "language_info": {
   "codemirror_mode": {
    "name": "ipython",
    "version": 3
   },
   "file_extension": ".py",
   "mimetype": "text/x-python",
   "name": "python",
   "nbconvert_exporter": "python",
   "pygments_lexer": "ipython3",
   "version": "3.11.7"
  }
 },
 "nbformat": 4,
 "nbformat_minor": 2
}
